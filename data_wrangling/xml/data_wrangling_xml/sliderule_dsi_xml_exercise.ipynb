{
 "cells": [
  {
   "cell_type": "markdown",
   "metadata": {},
   "source": [
    "# XML example and exercise\n",
    "****\n",
    "+ study examples of accessing nodes in XML tree structure  \n",
    "+ work on exercise to be completed and submitted\n",
    "****\n",
    "+ reference: https://docs.python.org/2.7/library/xml.etree.elementtree.html\n",
    "+ data source: http://www.dbis.informatik.uni-goettingen.de/Mondial\n",
    "****"
   ]
  },
  {
   "cell_type": "code",
   "execution_count": 62,
   "metadata": {
    "collapsed": true
   },
   "outputs": [],
   "source": [
    "from xml.etree import ElementTree as ET\n",
    "import pandas as pd"
   ]
  },
  {
   "cell_type": "markdown",
   "metadata": {},
   "source": [
    "## XML example\n",
    "\n",
    "+ for details about tree traversal and iterators, see https://docs.python.org/2.7/library/xml.etree.elementtree.html"
   ]
  },
  {
   "cell_type": "code",
   "execution_count": 2,
   "metadata": {
    "collapsed": true
   },
   "outputs": [],
   "source": [
    "document_tree = ET.parse( './data/mondial_database_less.xml' )"
   ]
  },
  {
   "cell_type": "code",
   "execution_count": 4,
   "metadata": {
    "collapsed": false
   },
   "outputs": [
    {
     "name": "stdout",
     "output_type": "stream",
     "text": [
      "Albania\n",
      "Greece\n",
      "Macedonia\n",
      "Serbia\n",
      "Montenegro\n",
      "Kosovo\n",
      "Andorra\n"
     ]
    }
   ],
   "source": [
    "# print names of all countries\n",
    "for child in document_tree.getroot():\n",
    "    print(child.find('name').text)"
   ]
  },
  {
   "cell_type": "code",
   "execution_count": 5,
   "metadata": {
    "collapsed": false
   },
   "outputs": [
    {
     "name": "stdout",
     "output_type": "stream",
     "text": [
      "* Albania: Tirana, Shkodër, Durrës, Vlorë, Elbasan, Korçë\n",
      "* Greece: Komotini, Kavala, Athina, Peiraias, Peristeri, Acharnes, Patra, Kozani, Kerkyra, Ioannina, Thessaloniki, Iraklio, Chania, Ermoupoli, Rhodes, Tripoli, Lamia, Chalkida, Larissa, Volos, Mytilini, Karyes\n",
      "* Macedonia: Skopje, Kumanovo\n",
      "* Serbia: Beograd, Novi Sad, Niš\n",
      "* Montenegro: Podgorica\n",
      "* Kosovo: Prishtine\n",
      "* Andorra: Andorra la Vella\n"
     ]
    }
   ],
   "source": [
    "# print names of all countries and their cities\n",
    "for element in document_tree.iterfind('country'):\n",
    "    print '* ' + element.find('name').text + ':',\n",
    "    capitals_string = ''\n",
    "    for subelement in element.getiterator('city'):\n",
    "        capitals_string += subelement.find('name').text + ', '\n",
    "    print capitals_string[:-2]"
   ]
  },
  {
   "cell_type": "markdown",
   "metadata": {},
   "source": [
    "****\n",
    "## XML exercise\n",
    "\n",
    "Using data in 'data/mondial_database.xml', the examples above, and refering to https://docs.python.org/2.7/library/xml.etree.elementtree.html, find\n",
    "\n",
    "1. 10 countries with the lowest infant mortality rates\n",
    "2. 10 cities with the largest population\n",
    "3. 10 ethnic groups with the largest overall populations (sum of best/latest estimates over all countries)\n",
    "4. name and country of a) longest river, b) largest lake and c) airport at highest elevation"
   ]
  },
  {
   "cell_type": "code",
   "execution_count": 5,
   "metadata": {
    "collapsed": true
   },
   "outputs": [],
   "source": [
    "document = ET.parse( './data/mondial_database.xml' )"
   ]
  },
  {
   "cell_type": "code",
   "execution_count": 176,
   "metadata": {
    "collapsed": false
   },
   "outputs": [
    {
     "name": "stdout",
     "output_type": "stream",
     "text": [
      "{'mondial', 'located_at', 'gdp_agri', 'elevation', 'city', 'mountain', 'infant_mortality', 'encompassed', 'ethnicgroup', 'depth', 'gmtOffset', 'border', 'gdp_serv', 'area', 'from', 'language', 'name', 'longitude', 'gdp_ind', 'abbrev', 'religion', 'inflation', 'located', 'river', 'gdp_total', 'mountains', 'through', 'country', 'government', 'to', 'island', 'length', 'localname', 'population_growth', 'lake', 'continent', 'unemployment', 'estuary', 'members', 'islands', 'sea', 'indep_date', 'organization', 'established', 'population', 'dependent', 'desert', 'airport', 'latitude', 'located_on', 'province', 'source'}\n"
     ]
    }
   ],
   "source": [
    "print(set([element.tag for element in document.getiterator()]))"
   ]
  },
  {
   "cell_type": "code",
   "execution_count": 153,
   "metadata": {
    "collapsed": false
   },
   "outputs": [
    {
     "name": "stdout",
     "output_type": "stream",
     "text": [
      "name\n",
      "localname\n",
      "population\n",
      "population\n",
      "population\n",
      "population\n",
      "population\n",
      "population\n",
      "population\n",
      "population\n",
      "population\n",
      "population\n",
      "population\n",
      "population\n",
      "population\n",
      "population\n",
      "population\n",
      "population_growth\n",
      "infant_mortality\n",
      "gdp_total\n",
      "gdp_agri\n",
      "gdp_ind\n",
      "gdp_serv\n",
      "inflation\n",
      "unemployment\n",
      "indep_date\n",
      "government\n",
      "encompassed\n",
      "ethnicgroup\n",
      "religion\n",
      "religion\n",
      "language\n",
      "border\n",
      "border\n",
      "border\n",
      "border\n",
      "province\n",
      "province\n",
      "province\n",
      "province\n",
      "province\n",
      "province\n",
      "province\n",
      "province\n",
      "province\n",
      "province\n",
      "province\n",
      "province\n",
      "province\n",
      "province\n"
     ]
    }
   ],
   "source": [
    "for country in document.getiterator('country'):\n",
    "    if country.find('name').text == 'Greece':\n",
    "        [print(child.tag) for child in country.getchildren()]"
   ]
  },
  {
   "cell_type": "markdown",
   "metadata": {},
   "source": [
    "## Airport\n",
    "I usually try to convert stuff to pandas dataframes for ease of use, but wanted to try using pure python here."
   ]
  },
  {
   "cell_type": "code",
   "execution_count": 173,
   "metadata": {
    "collapsed": false
   },
   "outputs": [
    {
     "name": "stdout",
     "output_type": "stream",
     "text": [
      "The airport El Alto Intl is the highest, at an elevation of 4063\n",
      "El Alto Intl is in BOL\n"
     ]
    }
   ],
   "source": [
    "max_elevation = 0\n",
    "for airport in document.getiterator('airport'):\n",
    "    \n",
    "    if airport.get('city'):\n",
    "        country = airport.get('city').split('-')[1]\n",
    "    if airport.find('elevation').text:\n",
    "        elevation = int(airport.find('elevation').text)\n",
    "    if elevation > max_elevation:\n",
    "        max_country = country\n",
    "        max_elevation = elevation\n",
    "        max_airport = airport.find('name').text\n",
    "        \n",
    "print('The airport %s is the highest, at an elevation of %s' % (max_airport, max_elevation))\n",
    "print('%s is in %s' % (max_airport, max_country))"
   ]
  },
  {
   "cell_type": "markdown",
   "metadata": {},
   "source": [
    "## River"
   ]
  },
  {
   "cell_type": "code",
   "execution_count": 200,
   "metadata": {
    "collapsed": false
   },
   "outputs": [],
   "source": [
    "rivers = []\n",
    "for river in document.getiterator('river'):\n",
    "    name = river.find('name').text\n",
    "    try:\n",
    "        length = river.find('length').text\n",
    "    except AttributeError as e:\n",
    "        length = None\n",
    "\n",
    "    countries = river.get('country').split(' ')\n",
    "    \n",
    "    rivers.append([name, length, countries])\n",
    "    "
   ]
  },
  {
   "cell_type": "code",
   "execution_count": 202,
   "metadata": {
    "collapsed": false
   },
   "outputs": [
    {
     "data": {
      "text/html": [
       "<div>\n",
       "<table border=\"1\" class=\"dataframe\">\n",
       "  <thead>\n",
       "    <tr style=\"text-align: right;\">\n",
       "      <th></th>\n",
       "      <th>name</th>\n",
       "      <th>length</th>\n",
       "      <th>countries</th>\n",
       "    </tr>\n",
       "  </thead>\n",
       "  <tbody>\n",
       "    <tr>\n",
       "      <th>0</th>\n",
       "      <td>Thjorsa</td>\n",
       "      <td>230.0</td>\n",
       "      <td>[IS]</td>\n",
       "    </tr>\n",
       "    <tr>\n",
       "      <th>1</th>\n",
       "      <td>Joekulsa a Fjoellum</td>\n",
       "      <td>206.0</td>\n",
       "      <td>[IS]</td>\n",
       "    </tr>\n",
       "    <tr>\n",
       "      <th>2</th>\n",
       "      <td>Glomma</td>\n",
       "      <td>604.0</td>\n",
       "      <td>[N]</td>\n",
       "    </tr>\n",
       "    <tr>\n",
       "      <th>3</th>\n",
       "      <td>Lagen</td>\n",
       "      <td>322.0</td>\n",
       "      <td>[N]</td>\n",
       "    </tr>\n",
       "    <tr>\n",
       "      <th>4</th>\n",
       "      <td>Goetaaelv</td>\n",
       "      <td>93.0</td>\n",
       "      <td>[S]</td>\n",
       "    </tr>\n",
       "  </tbody>\n",
       "</table>\n",
       "</div>"
      ],
      "text/plain": [
       "                  name  length countries\n",
       "0              Thjorsa   230.0      [IS]\n",
       "1  Joekulsa a Fjoellum   206.0      [IS]\n",
       "2               Glomma   604.0       [N]\n",
       "3                Lagen   322.0       [N]\n",
       "4            Goetaaelv    93.0       [S]"
      ]
     },
     "execution_count": 202,
     "metadata": {},
     "output_type": "execute_result"
    }
   ],
   "source": [
    "rivers_df = pd.DataFrame(rivers).rename(columns={0:'name', 1:'length', 2:'countries'})\n",
    "rivers_df.length = rivers_df.length.astype(float)\n",
    "rivers_df.head()"
   ]
  },
  {
   "cell_type": "code",
   "execution_count": 203,
   "metadata": {
    "collapsed": false
   },
   "outputs": [
    {
     "data": {
      "text/html": [
       "<div>\n",
       "<table border=\"1\" class=\"dataframe\">\n",
       "  <thead>\n",
       "    <tr style=\"text-align: right;\">\n",
       "      <th></th>\n",
       "      <th>name</th>\n",
       "      <th>length</th>\n",
       "      <th>countries</th>\n",
       "    </tr>\n",
       "  </thead>\n",
       "  <tbody>\n",
       "    <tr>\n",
       "      <th>174</th>\n",
       "      <td>Amazonas</td>\n",
       "      <td>6448.0</td>\n",
       "      <td>[CO, BR, PE]</td>\n",
       "    </tr>\n",
       "  </tbody>\n",
       "</table>\n",
       "</div>"
      ],
      "text/plain": [
       "         name  length     countries\n",
       "174  Amazonas  6448.0  [CO, BR, PE]"
      ]
     },
     "execution_count": 203,
     "metadata": {},
     "output_type": "execute_result"
    }
   ],
   "source": [
    "longest = rivers_df.sort_values(by='length', ascending=False).head(1)\n",
    "longest"
   ]
  },
  {
   "cell_type": "markdown",
   "metadata": {},
   "source": [
    "## Lake"
   ]
  },
  {
   "cell_type": "code",
   "execution_count": 210,
   "metadata": {
    "collapsed": false
   },
   "outputs": [
    {
     "data": {
      "text/html": [
       "<div>\n",
       "<table border=\"1\" class=\"dataframe\">\n",
       "  <thead>\n",
       "    <tr style=\"text-align: right;\">\n",
       "      <th></th>\n",
       "      <th>name</th>\n",
       "      <th>area</th>\n",
       "      <th>country</th>\n",
       "    </tr>\n",
       "  </thead>\n",
       "  <tbody>\n",
       "    <tr>\n",
       "      <th>0</th>\n",
       "      <td>Inari</td>\n",
       "      <td>1040.0</td>\n",
       "      <td>SF</td>\n",
       "    </tr>\n",
       "    <tr>\n",
       "      <th>1</th>\n",
       "      <td>Oulujaervi</td>\n",
       "      <td>928.0</td>\n",
       "      <td>SF</td>\n",
       "    </tr>\n",
       "    <tr>\n",
       "      <th>2</th>\n",
       "      <td>Kallavesi</td>\n",
       "      <td>472.0</td>\n",
       "      <td>SF</td>\n",
       "    </tr>\n",
       "    <tr>\n",
       "      <th>3</th>\n",
       "      <td>Saimaa</td>\n",
       "      <td>4370.0</td>\n",
       "      <td>SF</td>\n",
       "    </tr>\n",
       "    <tr>\n",
       "      <th>4</th>\n",
       "      <td>Paeijaenne</td>\n",
       "      <td>1118.0</td>\n",
       "      <td>SF</td>\n",
       "    </tr>\n",
       "  </tbody>\n",
       "</table>\n",
       "</div>"
      ],
      "text/plain": [
       "         name    area country\n",
       "0       Inari  1040.0      SF\n",
       "1  Oulujaervi   928.0      SF\n",
       "2   Kallavesi   472.0      SF\n",
       "3      Saimaa  4370.0      SF\n",
       "4  Paeijaenne  1118.0      SF"
      ]
     },
     "execution_count": 210,
     "metadata": {},
     "output_type": "execute_result"
    }
   ],
   "source": [
    "lakes = []\n",
    "for lake in document.getiterator('lake'):\n",
    "    try:\n",
    "        area = lake.find('area').text\n",
    "    except AttributeError as e:\n",
    "        area = None\n",
    "        \n",
    "    name = lake.find('name').text\n",
    "    \n",
    "    try:\n",
    "        country = lake.find('located').get('country')\n",
    "    except AttributeError as e:\n",
    "        country = None\n",
    "    \n",
    "    lakes.append([name, area, country])\n",
    "    \n",
    "lakes_df = pd.DataFrame(lakes).rename(columns={0:'name', 1:'area', 2:'country'})\n",
    "lakes_df.area = lakes_df.area.astype(float)\n",
    "lakes_df.head()\n",
    "        "
   ]
  },
  {
   "cell_type": "code",
   "execution_count": 211,
   "metadata": {
    "collapsed": false
   },
   "outputs": [
    {
     "data": {
      "text/html": [
       "<div>\n",
       "<table border=\"1\" class=\"dataframe\">\n",
       "  <thead>\n",
       "    <tr style=\"text-align: right;\">\n",
       "      <th></th>\n",
       "      <th>name</th>\n",
       "      <th>area</th>\n",
       "      <th>country</th>\n",
       "    </tr>\n",
       "  </thead>\n",
       "  <tbody>\n",
       "    <tr>\n",
       "      <th>54</th>\n",
       "      <td>Caspian Sea</td>\n",
       "      <td>386400.0</td>\n",
       "      <td>R</td>\n",
       "    </tr>\n",
       "  </tbody>\n",
       "</table>\n",
       "</div>"
      ],
      "text/plain": [
       "           name      area country\n",
       "54  Caspian Sea  386400.0       R"
      ]
     },
     "execution_count": 211,
     "metadata": {},
     "output_type": "execute_result"
    }
   ],
   "source": [
    "biggest_lake = lakes_df.sort_values(by='area', ascending=False).head(1)\n",
    "biggest_lake"
   ]
  },
  {
   "cell_type": "markdown",
   "metadata": {},
   "source": [
    "## Infant Mortality by Country"
   ]
  },
  {
   "cell_type": "code",
   "execution_count": 60,
   "metadata": {
    "collapsed": false
   },
   "outputs": [],
   "source": [
    "infant_mortalities = {}\n",
    "for country in document.getiterator('country'):\n",
    "    country_name = country.find('name').text\n",
    "    \n",
    "    try:\n",
    "        infant_mortality = country.find('infant_mortality').text\n",
    "    except AttributeError as e:\n",
    "        infant_mortality = None\n",
    "    \n",
    "    infant_mortalities[country_name] = infant_mortality"
   ]
  },
  {
   "cell_type": "code",
   "execution_count": 127,
   "metadata": {
    "collapsed": false
   },
   "outputs": [
    {
     "data": {
      "text/html": [
       "<div>\n",
       "<table border=\"1\" class=\"dataframe\">\n",
       "  <thead>\n",
       "    <tr style=\"text-align: right;\">\n",
       "      <th></th>\n",
       "      <th>infant_mortality</th>\n",
       "    </tr>\n",
       "  </thead>\n",
       "  <tbody>\n",
       "    <tr>\n",
       "      <th>Central African Republic</th>\n",
       "      <td>92.86</td>\n",
       "    </tr>\n",
       "    <tr>\n",
       "      <th>Guinea-Bissau</th>\n",
       "      <td>90.92</td>\n",
       "    </tr>\n",
       "    <tr>\n",
       "      <th>Chad</th>\n",
       "      <td>90.3</td>\n",
       "    </tr>\n",
       "    <tr>\n",
       "      <th>Argentina</th>\n",
       "      <td>9.96</td>\n",
       "    </tr>\n",
       "    <tr>\n",
       "      <th>Thailand</th>\n",
       "      <td>9.86</td>\n",
       "    </tr>\n",
       "    <tr>\n",
       "      <th>Bahrain</th>\n",
       "      <td>9.68</td>\n",
       "    </tr>\n",
       "    <tr>\n",
       "      <th>Greenland</th>\n",
       "      <td>9.42</td>\n",
       "    </tr>\n",
       "    <tr>\n",
       "      <th>Botswana</th>\n",
       "      <td>9.38</td>\n",
       "    </tr>\n",
       "    <tr>\n",
       "      <th>Sint Maarten</th>\n",
       "      <td>9.05</td>\n",
       "    </tr>\n",
       "    <tr>\n",
       "      <th>Sri Lanka</th>\n",
       "      <td>9.02</td>\n",
       "    </tr>\n",
       "  </tbody>\n",
       "</table>\n",
       "</div>"
      ],
      "text/plain": [
       "                         infant_mortality\n",
       "Central African Republic            92.86\n",
       "Guinea-Bissau                       90.92\n",
       "Chad                                 90.3\n",
       "Argentina                            9.96\n",
       "Thailand                             9.86\n",
       "Bahrain                              9.68\n",
       "Greenland                            9.42\n",
       "Botswana                             9.38\n",
       "Sint Maarten                         9.05\n",
       "Sri Lanka                            9.02"
      ]
     },
     "execution_count": 127,
     "metadata": {},
     "output_type": "execute_result"
    }
   ],
   "source": [
    "df = (pd.DataFrame.from_dict(infant_mortalities, orient='index')\n",
    "        .rename(columns={0:'infant_mortality'})\n",
    "        .sort_values(by='infant_mortality', ascending=False)\n",
    "     )\n",
    "top_10_im = df.head(10)\n",
    "top_10_im"
   ]
  },
  {
   "cell_type": "markdown",
   "metadata": {},
   "source": [
    "## Top Population Cities and Top Ethnic Groups"
   ]
  },
  {
   "cell_type": "code",
   "execution_count": 137,
   "metadata": {
    "collapsed": true
   },
   "outputs": [],
   "source": [
    "def get_population(element):\n",
    "    pops = {pop.get('year'): [pop.text, pop.get('measured')] for pop in element.findall('population')}\n",
    "    pops_df = (pd.DataFrame.from_dict(pops, orient='index')\n",
    "                .reset_index()\n",
    "                .rename(columns={0:'population', 1:'meas_method', 'index':'year'})\n",
    "              )\n",
    "    return pops_df\n",
    "\n",
    "def get_ethnic_groups(element):\n",
    "    groups = {group.text: group.get('percentage') for group in element.findall('ethnicgroup')}\n",
    "    groups_df = (pd.DataFrame.from_dict(groups, orient='index')\n",
    "                             .reset_index()\n",
    "                             .rename(columns={0:'percentage', 'index':'ethnic_group'})\n",
    "                )\n",
    "    return groups_df"
   ]
  },
  {
   "cell_type": "code",
   "execution_count": 133,
   "metadata": {
    "collapsed": false
   },
   "outputs": [],
   "source": [
    "dfs = []\n",
    "for city in document.findall('country/city'):\n",
    "    city_name = city.find('name').text\n",
    "    pops_df = get_population(city)\n",
    "    \n",
    "    pops_df['city'] = city_name\n",
    "    dfs.append(pops_df)\n",
    "    \n",
    "cities = pd.concat(dfs)\n",
    "cities.population = cities.population.astype(int)\n",
    "\n",
    "   \n",
    "    "
   ]
  },
  {
   "cell_type": "code",
   "execution_count": 134,
   "metadata": {
    "collapsed": false
   },
   "outputs": [
    {
     "data": {
      "text/html": [
       "<div>\n",
       "<table border=\"1\" class=\"dataframe\">\n",
       "  <thead>\n",
       "    <tr style=\"text-align: right;\">\n",
       "      <th></th>\n",
       "      <th>city</th>\n",
       "      <th>meas_method</th>\n",
       "      <th>population</th>\n",
       "      <th>year</th>\n",
       "    </tr>\n",
       "  </thead>\n",
       "  <tbody>\n",
       "    <tr>\n",
       "      <th>0</th>\n",
       "      <td>Tirana</td>\n",
       "      <td>None</td>\n",
       "      <td>192000</td>\n",
       "      <td>1987</td>\n",
       "    </tr>\n",
       "    <tr>\n",
       "      <th>1</th>\n",
       "      <td>Tirana</td>\n",
       "      <td>census</td>\n",
       "      <td>418495</td>\n",
       "      <td>2011</td>\n",
       "    </tr>\n",
       "    <tr>\n",
       "      <th>2</th>\n",
       "      <td>Tirana</td>\n",
       "      <td>estimate</td>\n",
       "      <td>244153</td>\n",
       "      <td>1990</td>\n",
       "    </tr>\n",
       "    <tr>\n",
       "      <th>0</th>\n",
       "      <td>Shkodër</td>\n",
       "      <td>None</td>\n",
       "      <td>62000</td>\n",
       "      <td>1987</td>\n",
       "    </tr>\n",
       "    <tr>\n",
       "      <th>1</th>\n",
       "      <td>Shkodër</td>\n",
       "      <td>census</td>\n",
       "      <td>77075</td>\n",
       "      <td>2011</td>\n",
       "    </tr>\n",
       "  </tbody>\n",
       "</table>\n",
       "</div>"
      ],
      "text/plain": [
       "      city meas_method  population  year\n",
       "0   Tirana        None      192000  1987\n",
       "1   Tirana      census      418495  2011\n",
       "2   Tirana    estimate      244153  1990\n",
       "0  Shkodër        None       62000  1987\n",
       "1  Shkodër      census       77075  2011"
      ]
     },
     "execution_count": 134,
     "metadata": {},
     "output_type": "execute_result"
    }
   ],
   "source": [
    "cities.head()"
   ]
  },
  {
   "cell_type": "code",
   "execution_count": 125,
   "metadata": {
    "collapsed": false
   },
   "outputs": [
    {
     "data": {
      "text/html": [
       "<div>\n",
       "<table border=\"1\" class=\"dataframe\">\n",
       "  <thead>\n",
       "    <tr style=\"text-align: right;\">\n",
       "      <th></th>\n",
       "      <th>meas_method</th>\n",
       "      <th>population</th>\n",
       "      <th>year</th>\n",
       "    </tr>\n",
       "    <tr>\n",
       "      <th>city</th>\n",
       "      <th></th>\n",
       "      <th></th>\n",
       "      <th></th>\n",
       "    </tr>\n",
       "  </thead>\n",
       "  <tbody>\n",
       "    <tr>\n",
       "      <th>Abomey-Calavi</th>\n",
       "      <td>census</td>\n",
       "      <td>307745</td>\n",
       "      <td>2002</td>\n",
       "    </tr>\n",
       "    <tr>\n",
       "      <th>Abu Dhabi</th>\n",
       "      <td>estimate</td>\n",
       "      <td>552000</td>\n",
       "      <td>2003</td>\n",
       "    </tr>\n",
       "    <tr>\n",
       "      <th>Aden</th>\n",
       "      <td>census</td>\n",
       "      <td>570551</td>\n",
       "      <td>2004</td>\n",
       "    </tr>\n",
       "    <tr>\n",
       "      <th>Akureyri</th>\n",
       "      <td>admin.</td>\n",
       "      <td>17490</td>\n",
       "      <td>2011</td>\n",
       "    </tr>\n",
       "    <tr>\n",
       "      <th>Al Ain</th>\n",
       "      <td>estimate</td>\n",
       "      <td>348000</td>\n",
       "      <td>2003</td>\n",
       "    </tr>\n",
       "  </tbody>\n",
       "</table>\n",
       "</div>"
      ],
      "text/plain": [
       "              meas_method  population  year\n",
       "city                                       \n",
       "Abomey-Calavi      census      307745  2002\n",
       "Abu Dhabi        estimate      552000  2003\n",
       "Aden               census      570551  2004\n",
       "Akureyri           admin.       17490  2011\n",
       "Al Ain           estimate      348000  2003"
      ]
     },
     "execution_count": 125,
     "metadata": {},
     "output_type": "execute_result"
    }
   ],
   "source": [
    "most_recent_meas = (cities.sort_values(by=['city', 'year'])\n",
    "                          .groupby('city')\n",
    "                          .last()\n",
    "                   )\n",
    "\n",
    "most_recent_meas.head()\n"
   ]
  },
  {
   "cell_type": "code",
   "execution_count": 126,
   "metadata": {
    "collapsed": false
   },
   "outputs": [
    {
     "data": {
      "text/html": [
       "<div>\n",
       "<table border=\"1\" class=\"dataframe\">\n",
       "  <thead>\n",
       "    <tr style=\"text-align: right;\">\n",
       "      <th></th>\n",
       "      <th>meas_method</th>\n",
       "      <th>population</th>\n",
       "      <th>year</th>\n",
       "    </tr>\n",
       "    <tr>\n",
       "      <th>city</th>\n",
       "      <th></th>\n",
       "      <th></th>\n",
       "      <th></th>\n",
       "    </tr>\n",
       "  </thead>\n",
       "  <tbody>\n",
       "    <tr>\n",
       "      <th>Seoul</th>\n",
       "      <td>census</td>\n",
       "      <td>9708483</td>\n",
       "      <td>2010</td>\n",
       "    </tr>\n",
       "    <tr>\n",
       "      <th>Al Qahirah</th>\n",
       "      <td>census</td>\n",
       "      <td>8471859</td>\n",
       "      <td>2006</td>\n",
       "    </tr>\n",
       "    <tr>\n",
       "      <th>Bangkok</th>\n",
       "      <td>estimate</td>\n",
       "      <td>7506700</td>\n",
       "      <td>1999</td>\n",
       "    </tr>\n",
       "    <tr>\n",
       "      <th>Hong Kong</th>\n",
       "      <td>None</td>\n",
       "      <td>7055071</td>\n",
       "      <td>2009</td>\n",
       "    </tr>\n",
       "    <tr>\n",
       "      <th>Ho Chi Minh</th>\n",
       "      <td>census</td>\n",
       "      <td>5968384</td>\n",
       "      <td>2009</td>\n",
       "    </tr>\n",
       "    <tr>\n",
       "      <th>Singapore</th>\n",
       "      <td>census</td>\n",
       "      <td>5076700</td>\n",
       "      <td>2010</td>\n",
       "    </tr>\n",
       "    <tr>\n",
       "      <th>Al Iskandariyah</th>\n",
       "      <td>census</td>\n",
       "      <td>4123869</td>\n",
       "      <td>2006</td>\n",
       "    </tr>\n",
       "    <tr>\n",
       "      <th>New Taipei</th>\n",
       "      <td>estimate</td>\n",
       "      <td>3939305</td>\n",
       "      <td>2012</td>\n",
       "    </tr>\n",
       "    <tr>\n",
       "      <th>Busan</th>\n",
       "      <td>census</td>\n",
       "      <td>3403135</td>\n",
       "      <td>2010</td>\n",
       "    </tr>\n",
       "    <tr>\n",
       "      <th>Pyongyang</th>\n",
       "      <td>census</td>\n",
       "      <td>3255288</td>\n",
       "      <td>2008</td>\n",
       "    </tr>\n",
       "  </tbody>\n",
       "</table>\n",
       "</div>"
      ],
      "text/plain": [
       "                meas_method  population  year\n",
       "city                                         \n",
       "Seoul                census     9708483  2010\n",
       "Al Qahirah           census     8471859  2006\n",
       "Bangkok            estimate     7506700  1999\n",
       "Hong Kong              None     7055071  2009\n",
       "Ho Chi Minh          census     5968384  2009\n",
       "Singapore            census     5076700  2010\n",
       "Al Iskandariyah      census     4123869  2006\n",
       "New Taipei         estimate     3939305  2012\n",
       "Busan                census     3403135  2010\n",
       "Pyongyang            census     3255288  2008"
      ]
     },
     "execution_count": 126,
     "metadata": {},
     "output_type": "execute_result"
    }
   ],
   "source": [
    "top_pop_cities = most_recent_meas.sort_values(by='population', ascending=False).head(10)\n",
    "top_pop_cities"
   ]
  },
  {
   "cell_type": "code",
   "execution_count": 143,
   "metadata": {
    "collapsed": false
   },
   "outputs": [],
   "source": [
    "pops_dfs, ethnic_group_dfs = [], []\n",
    "for country in document.findall('country'):\n",
    "    country_name = country.find('name').text\n",
    "    pops = get_population(country)\n",
    "    pops['country'] = country_name\n",
    "    pops_dfs.append(pops)\n",
    "    \n",
    "    ethnic_groups = get_ethnic_groups(country)\n",
    "    ethnic_groups['country'] = country_name\n",
    "    ethnic_group_dfs.append(ethnic_groups)\n",
    "    \n",
    "pops = pd.concat(pops_dfs)\n",
    "pops.population = pops.population.astype(int)\n",
    "\n",
    "ethnic_groups = pd.concat(ethnic_group_dfs)\n",
    "ethnic_groups.percentage = ethnic_groups.percentage.astype(float)/100\n",
    "    \n",
    "\n"
   ]
  },
  {
   "cell_type": "code",
   "execution_count": 144,
   "metadata": {
    "collapsed": false
   },
   "outputs": [
    {
     "data": {
      "text/html": [
       "<div>\n",
       "<table border=\"1\" class=\"dataframe\">\n",
       "  <thead>\n",
       "    <tr style=\"text-align: right;\">\n",
       "      <th></th>\n",
       "      <th>country</th>\n",
       "      <th>ethnic_group</th>\n",
       "      <th>percentage</th>\n",
       "    </tr>\n",
       "  </thead>\n",
       "  <tbody>\n",
       "    <tr>\n",
       "      <th>0</th>\n",
       "      <td>Albania</td>\n",
       "      <td>Albanian</td>\n",
       "      <td>0.950</td>\n",
       "    </tr>\n",
       "    <tr>\n",
       "      <th>1</th>\n",
       "      <td>Albania</td>\n",
       "      <td>Greek</td>\n",
       "      <td>0.030</td>\n",
       "    </tr>\n",
       "    <tr>\n",
       "      <th>0</th>\n",
       "      <td>Greece</td>\n",
       "      <td>Greek</td>\n",
       "      <td>0.930</td>\n",
       "    </tr>\n",
       "    <tr>\n",
       "      <th>0</th>\n",
       "      <td>Macedonia</td>\n",
       "      <td>Serb</td>\n",
       "      <td>0.018</td>\n",
       "    </tr>\n",
       "    <tr>\n",
       "      <th>1</th>\n",
       "      <td>Macedonia</td>\n",
       "      <td>Turkish</td>\n",
       "      <td>0.039</td>\n",
       "    </tr>\n",
       "  </tbody>\n",
       "</table>\n",
       "</div>"
      ],
      "text/plain": [
       "     country ethnic_group  percentage\n",
       "0    Albania     Albanian       0.950\n",
       "1    Albania        Greek       0.030\n",
       "0     Greece        Greek       0.930\n",
       "0  Macedonia         Serb       0.018\n",
       "1  Macedonia      Turkish       0.039"
      ]
     },
     "execution_count": 144,
     "metadata": {},
     "output_type": "execute_result"
    }
   ],
   "source": [
    "ethnic_groups.head()"
   ]
  },
  {
   "cell_type": "code",
   "execution_count": 146,
   "metadata": {
    "collapsed": false
   },
   "outputs": [
    {
     "data": {
      "text/html": [
       "<div>\n",
       "<table border=\"1\" class=\"dataframe\">\n",
       "  <thead>\n",
       "    <tr style=\"text-align: right;\">\n",
       "      <th></th>\n",
       "      <th>year</th>\n",
       "      <th>population</th>\n",
       "      <th>meas_method</th>\n",
       "    </tr>\n",
       "    <tr>\n",
       "      <th>country</th>\n",
       "      <th></th>\n",
       "      <th></th>\n",
       "      <th></th>\n",
       "    </tr>\n",
       "  </thead>\n",
       "  <tbody>\n",
       "    <tr>\n",
       "      <th>Afghanistan</th>\n",
       "      <td>2013</td>\n",
       "      <td>26023100</td>\n",
       "      <td>estimate</td>\n",
       "    </tr>\n",
       "    <tr>\n",
       "      <th>Albania</th>\n",
       "      <td>2011</td>\n",
       "      <td>2800138</td>\n",
       "      <td>census</td>\n",
       "    </tr>\n",
       "    <tr>\n",
       "      <th>Algeria</th>\n",
       "      <td>2010</td>\n",
       "      <td>37062820</td>\n",
       "      <td>est.</td>\n",
       "    </tr>\n",
       "    <tr>\n",
       "      <th>American Samoa</th>\n",
       "      <td>2010</td>\n",
       "      <td>55519</td>\n",
       "      <td>census</td>\n",
       "    </tr>\n",
       "    <tr>\n",
       "      <th>Andorra</th>\n",
       "      <td>2011</td>\n",
       "      <td>78115</td>\n",
       "      <td>admin.</td>\n",
       "    </tr>\n",
       "  </tbody>\n",
       "</table>\n",
       "</div>"
      ],
      "text/plain": [
       "                year  population meas_method\n",
       "country                                     \n",
       "Afghanistan     2013    26023100    estimate\n",
       "Albania         2011     2800138      census\n",
       "Algeria         2010    37062820        est.\n",
       "American Samoa  2010       55519      census\n",
       "Andorra         2011       78115      admin."
      ]
     },
     "execution_count": 146,
     "metadata": {},
     "output_type": "execute_result"
    }
   ],
   "source": [
    "most_recent_pop = (pops.sort_values(by=['country', 'year'])\n",
    "                      .groupby('country')\n",
    "                      .last()\n",
    "                   )\n",
    "most_recent_pop.head()"
   ]
  },
  {
   "cell_type": "code",
   "execution_count": 151,
   "metadata": {
    "collapsed": false
   },
   "outputs": [
    {
     "data": {
      "text/html": [
       "<div>\n",
       "<table border=\"1\" class=\"dataframe\">\n",
       "  <thead>\n",
       "    <tr style=\"text-align: right;\">\n",
       "      <th></th>\n",
       "      <th>country</th>\n",
       "      <th>ethnic_group</th>\n",
       "      <th>percentage</th>\n",
       "      <th>year</th>\n",
       "      <th>population</th>\n",
       "      <th>meas_method</th>\n",
       "    </tr>\n",
       "  </thead>\n",
       "  <tbody>\n",
       "    <tr>\n",
       "      <th>0</th>\n",
       "      <td>Albania</td>\n",
       "      <td>Albanian</td>\n",
       "      <td>0.950</td>\n",
       "      <td>2011</td>\n",
       "      <td>2.660131e+06</td>\n",
       "      <td>census</td>\n",
       "    </tr>\n",
       "    <tr>\n",
       "      <th>1</th>\n",
       "      <td>Albania</td>\n",
       "      <td>Greek</td>\n",
       "      <td>0.030</td>\n",
       "      <td>2011</td>\n",
       "      <td>8.400414e+04</td>\n",
       "      <td>census</td>\n",
       "    </tr>\n",
       "    <tr>\n",
       "      <th>2</th>\n",
       "      <td>Greece</td>\n",
       "      <td>Greek</td>\n",
       "      <td>0.930</td>\n",
       "      <td>2011</td>\n",
       "      <td>1.005915e+07</td>\n",
       "      <td>census</td>\n",
       "    </tr>\n",
       "    <tr>\n",
       "      <th>3</th>\n",
       "      <td>Macedonia</td>\n",
       "      <td>Serb</td>\n",
       "      <td>0.018</td>\n",
       "      <td>2011</td>\n",
       "      <td>3.707629e+04</td>\n",
       "      <td>estimate</td>\n",
       "    </tr>\n",
       "    <tr>\n",
       "      <th>4</th>\n",
       "      <td>Macedonia</td>\n",
       "      <td>Turkish</td>\n",
       "      <td>0.039</td>\n",
       "      <td>2011</td>\n",
       "      <td>8.033197e+04</td>\n",
       "      <td>estimate</td>\n",
       "    </tr>\n",
       "  </tbody>\n",
       "</table>\n",
       "</div>"
      ],
      "text/plain": [
       "     country ethnic_group  percentage  year    population meas_method\n",
       "0    Albania     Albanian       0.950  2011  2.660131e+06      census\n",
       "1    Albania        Greek       0.030  2011  8.400414e+04      census\n",
       "2     Greece        Greek       0.930  2011  1.005915e+07      census\n",
       "3  Macedonia         Serb       0.018  2011  3.707629e+04    estimate\n",
       "4  Macedonia      Turkish       0.039  2011  8.033197e+04    estimate"
      ]
     },
     "execution_count": 151,
     "metadata": {},
     "output_type": "execute_result"
    }
   ],
   "source": [
    "m = pd.merge(ethnic_groups, most_recent_pop.reset_index(), how='left', on='country')\n",
    "m['population'] = m.population * m.percentage\n",
    "m.head()"
   ]
  },
  {
   "cell_type": "code",
   "execution_count": 159,
   "metadata": {
    "collapsed": false
   },
   "outputs": [
    {
     "data": {
      "text/plain": [
       "ethnic_group\n",
       "Han Chinese    1.245059e+09\n",
       "Indo-Aryan     8.718156e+08\n",
       "European       4.948722e+08\n",
       "African        3.183251e+08\n",
       "Dravidian      3.027137e+08\n",
       "Mestizo        1.577344e+08\n",
       "Bengali        1.467769e+08\n",
       "Russian        1.318570e+08\n",
       "Japanese       1.265342e+08\n",
       "Malay          1.219936e+08\n",
       "Name: population, dtype: float64"
      ]
     },
     "execution_count": 159,
     "metadata": {},
     "output_type": "execute_result"
    }
   ],
   "source": [
    "ethnic_group_pops = m.groupby('ethnic_group').population.sum()\n",
    "top_ethnic_groups = ethnic_group_pops.sort_values(ascending=False).head(10)\n",
    "top_ethnic_groups\n",
    "                     "
   ]
  }
 ],
 "metadata": {
  "kernelspec": {
   "display_name": "Python 3",
   "language": "python",
   "name": "python3"
  },
  "language_info": {
   "codemirror_mode": {
    "name": "ipython",
    "version": 3
   },
   "file_extension": ".py",
   "mimetype": "text/x-python",
   "name": "python",
   "nbconvert_exporter": "python",
   "pygments_lexer": "ipython3",
   "version": "3.5.2"
  }
 },
 "nbformat": 4,
 "nbformat_minor": 0
}
